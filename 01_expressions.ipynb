{
  "nbformat": 4,
  "nbformat_minor": 0,
  "metadata": {
    "colab": {
      "provenance": [],
      "authorship_tag": "ABX9TyN3257GEDJWCdoxCx1GGLyK",
      "include_colab_link": true
    },
    "kernelspec": {
      "name": "python3",
      "display_name": "Python 3"
    },
    "language_info": {
      "name": "python"
    }
  },
  "cells": [
    {
      "cell_type": "markdown",
      "metadata": {
        "id": "view-in-github",
        "colab_type": "text"
      },
      "source": [
        "<a href=\"https://colab.research.google.com/github/nehaltariq357/project-4-assignments-colab/blob/main/01_expressions.ipynb\" target=\"_parent\"><img src=\"https://colab.research.google.com/assets/colab-badge.svg\" alt=\"Open In Colab\"/></a>"
      ]
    },
    {
      "cell_type": "markdown",
      "source": [],
      "metadata": {
        "id": "n7V_lDXPqRXM"
      }
    },
    {
      "cell_type": "markdown",
      "source": [
        "##01_dicesimulator"
      ],
      "metadata": {
        "id": "v8k531W4qV1F"
      }
    },
    {
      "cell_type": "code",
      "source": [
        "import random\n",
        "num_sides = 6\n",
        "def roll_dice():\n",
        "  '''\n",
        "  simulates rolling two dice and prints their total\n",
        "  '''\n",
        "  die1 = random.randint(1,num_sides) # die value randomly come from 1 to 6\n",
        "  die2 = random.randint(1,num_sides) # die value randomly come from 1 to 6\n",
        "  total = die1 + die2\n",
        "  print(f\"Dice 1 = {die1}\\nDice 2 = {die2}\\nThe total of two dice = {total}\")\n",
        "\n",
        "def main():\n",
        "  die1 = 10 # this die1 works in main()\n",
        "  print(f\"die1 in main() starts as: {die1}\")\n",
        "\n",
        "  #rolling dice 3 times\n",
        "  roll_dice()\n",
        "  roll_dice()\n",
        "  roll_dice()\n",
        "\n",
        "  print(f\"die1 in main() is: {die1}\")\n",
        "\n",
        "\n",
        "\n",
        "if __name__ == '__main__':\n",
        "    main()"
      ],
      "metadata": {
        "colab": {
          "base_uri": "https://localhost:8080/"
        },
        "id": "qd3TOqutta_0",
        "outputId": "eb84ebd0-6dcf-4fc9-91a2-a7ec1cb8df65"
      },
      "execution_count": null,
      "outputs": [
        {
          "output_type": "stream",
          "name": "stdout",
          "text": [
            "die1 in main() starts as: 10\n",
            "Dice 1 = 4\n",
            "Dice 2 = 5\n",
            "The total of two dice = 9\n",
            "Dice 1 = 5\n",
            "Dice 2 = 3\n",
            "The total of two dice = 8\n",
            "Dice 1 = 6\n",
            "Dice 2 = 3\n",
            "The total of two dice = 9\n",
            "die1 in main() is: 10\n"
          ]
        }
      ]
    },
    {
      "cell_type": "markdown",
      "source": [
        "##02_e=mc2\n",
        "formula E = m * c**2"
      ],
      "metadata": {
        "id": "A3PJE7sDvq0Z"
      }
    },
    {
      "cell_type": "code",
      "source": [
        "C:int = 299792458  # The speed of light in m/s\n",
        "def main():\n",
        "  mass_in_kg:float = float(input(\"Enter kilos of mass: \"))\n",
        "  #calculate energy\n",
        "  #equivalently energy = mass * (C**2)\n",
        "  #using ** operator to raise C to the power 2\n",
        "  energy_in_joules:float = mass_in_kg * (C ** 2)\n",
        "\n",
        "  # Display work to the user\n",
        "  print(\"e = m * C^2...\")\n",
        "  print(\"m = \" + str(mass_in_kg) + \" kg\")\n",
        "  print(\"C = \" + str(C) + \" m/s\")\n",
        "\n",
        "  print(str(energy_in_joules) + \" joules of energy!\")\n",
        "\n",
        "\n",
        "if __name__ == '__main__':\n",
        "    main()"
      ],
      "metadata": {
        "colab": {
          "base_uri": "https://localhost:8080/"
        },
        "id": "4n4OVuJMvs9f",
        "outputId": "798238fe-22bd-42fa-e725-c4fbdcd8c96a"
      },
      "execution_count": null,
      "outputs": [
        {
          "output_type": "stream",
          "name": "stdout",
          "text": [
            "Enter kilos of mass: 100\n",
            "e = m * C^2...\n",
            "m = 100.0 kg\n",
            "C = 299792458 m/s\n",
            "8.987551787368176e+18 joules of energy!\n"
          ]
        }
      ]
    },
    {
      "cell_type": "markdown",
      "source": [
        "##03_feet_to_inches"
      ],
      "metadata": {
        "id": "ZKHHrbujKG9w"
      }
    },
    {
      "cell_type": "code",
      "source": [
        "inches_in_foot:int = 12\n",
        "def main():\n",
        "  number:float = float(input(\"Enter a number: \"))\n",
        "  label = \"foot\" if number ==1 else \"feet\"\n",
        "  print(f\"User Entered {number} {label}\")\n",
        "  feet:float = number\n",
        "  inches:float = inches_in_foot * feet\n",
        "  print(f\"That is {inches:.2f} inches\")\n",
        "\n",
        "if __name__ == '__main__':\n",
        "    main()"
      ],
      "metadata": {
        "colab": {
          "base_uri": "https://localhost:8080/"
        },
        "id": "LbD-vg3rKIbz",
        "outputId": "68454520-c1b9-4483-b927-b4ca9f9a9bdc"
      },
      "execution_count": null,
      "outputs": [
        {
          "output_type": "stream",
          "name": "stdout",
          "text": [
            "Enter a number: 5.2\n",
            "User Entered 5.2 feet\n",
            "That is 62.40 inches\n"
          ]
        }
      ]
    },
    {
      "cell_type": "markdown",
      "source": [
        "##04_pythagorean_theorem\n",
        "formula BC = √(AB² + AC²)\n"
      ],
      "metadata": {
        "id": "K06N8NecZuUQ"
      }
    },
    {
      "cell_type": "code",
      "source": [
        "import math\n",
        "def main():\n",
        "  ab:float = float(input(\"Enter the length of AB: \"))\n",
        "  ac:float = float(input(\"Enter the length of AC: \"))\n",
        "  # Calculate the hypotenuse using the two sides and print it out\n",
        "  bc:float = math.sqrt(ab**2 + ac**2)\n",
        "  print(\"The length of BC (the hypotenuse) is: \" + str(bc))\n",
        "\n",
        "if __name__ == '__main__':\n",
        "    main()"
      ],
      "metadata": {
        "colab": {
          "base_uri": "https://localhost:8080/"
        },
        "id": "U-RqJwXi5_tA",
        "outputId": "38d1ea67-752b-48e9-8357-e245d0c41057"
      },
      "execution_count": null,
      "outputs": [
        {
          "output_type": "stream",
          "name": "stdout",
          "text": [
            "Enter the length of AB: 3\n",
            "Enter the length of AC: 4\n",
            "The length of BC (the hypotenuse) is: 5.0\n"
          ]
        }
      ]
    },
    {
      "cell_type": "markdown",
      "source": [
        "##05_remainder_division"
      ],
      "metadata": {
        "id": "EIue_sqjOer4"
      }
    },
    {
      "cell_type": "code",
      "source": [
        "def main():\n",
        "  dividend = int(input(\"Please enter an integer to be divided: \"))\n",
        "  divisor = int(input(\"Please enter an integer to divide by: \"))\n",
        "  quotient:int = dividend // divisor # Divide with no remainder/decimals (integer division)\n",
        "  remainder:int = dividend % divisor # Get the remainder of the division (modulo)\n",
        "  print(f\"The result of this {quotient} with a remainder of {remainder}\")\n",
        "\n",
        "if __name__ == '__main__':\n",
        "    main()"
      ],
      "metadata": {
        "colab": {
          "base_uri": "https://localhost:8080/"
        },
        "id": "9s8s_mXSOgKa",
        "outputId": "2717dcb7-58c0-45d2-f75c-169c5dc59ebf"
      },
      "execution_count": null,
      "outputs": [
        {
          "output_type": "stream",
          "name": "stdout",
          "text": [
            "Please enter an integer to be divided: 5\n",
            "Please enter an integer to divide by: 3\n",
            "The result of this 1 with a remainder of 2\n"
          ]
        }
      ]
    },
    {
      "cell_type": "markdown",
      "source": [
        "##06_rolldice"
      ],
      "metadata": {
        "id": "lJz9IQP1SBtq"
      }
    },
    {
      "cell_type": "code",
      "source": [
        "import random\n",
        "num_sides:int = 6\n",
        "def main():\n",
        "  # Roll die\n",
        "  die1:int = random.randint(1,num_sides)\n",
        "  die2:int = random.randint(1,num_sides)\n",
        "  #get their sum\n",
        "  total:int = die1 + die2\n",
        "\n",
        "  # Print out the results\n",
        "\n",
        "  print(\"Dice have\", num_sides, \"sides each.\")\n",
        "  print(\"First die:\", die1)\n",
        "  print(\"Second die:\", die2)\n",
        "  print(\"Total of two dice:\", total)\n",
        "\n",
        "\n",
        "if __name__ == '__main__':\n",
        "    main()"
      ],
      "metadata": {
        "colab": {
          "base_uri": "https://localhost:8080/"
        },
        "id": "5nzH3rbmSDIy",
        "outputId": "2f95eab5-4eb9-490a-a882-f0a39246b6b5"
      },
      "execution_count": null,
      "outputs": [
        {
          "output_type": "stream",
          "name": "stdout",
          "text": [
            "Dice have 6 sides each.\n",
            "First die: 1\n",
            "Second die: 2\n",
            "Total of two dice: 3\n"
          ]
        }
      ]
    },
    {
      "cell_type": "markdown",
      "source": [
        "##06_seconds_in_year"
      ],
      "metadata": {
        "id": "zeIbroRZWack"
      }
    },
    {
      "cell_type": "code",
      "source": [
        "# Useful constants to help make the math easier and cleaner!\n",
        "days_per_year:int = 365\n",
        "hours_per_day:int = 24\n",
        "min_per_hour:int = 60\n",
        "sec_per_min:int = 60\n",
        "\n",
        "def main():\n",
        "  # We can get the number of seconds per year by multiplying the handy constants above!\n",
        "  total_seconds_in_one_year:int = days_per_year * hours_per_day * min_per_hour * sec_per_min\n",
        "  input_year:int = int(input(\"Enter a years to convert in seconds: \"))\n",
        "  how_many_years:int = total_seconds_in_one_year * input_year\n",
        "  print(f\"There are {how_many_years} seconds in {input_year} years(s)\")\n",
        "\n",
        "\n",
        "\n",
        "if __name__ == '__main__':\n",
        "    main()"
      ],
      "metadata": {
        "colab": {
          "base_uri": "https://localhost:8080/"
        },
        "id": "rMt_eN7BWvCC",
        "outputId": "8bded85b-a0c4-4dcc-f832-cde630bde993"
      },
      "execution_count": null,
      "outputs": [
        {
          "output_type": "stream",
          "name": "stdout",
          "text": [
            "Enter a years to convert in seconds: 1\n",
            "There are 31536000 seconds in 1 years(s)\n"
          ]
        }
      ]
    },
    {
      "cell_type": "markdown",
      "source": [
        "##07_tiny_mad_lib"
      ],
      "metadata": {
        "id": "UdP7lyIa_Pgy"
      }
    },
    {
      "cell_type": "code",
      "source": [
        "SENTENCE_START: str = \"Panaversity is fun. I learned to program and used Python to make my\" # adjective noun verb\n",
        "def main():\n",
        "  adjective:str = input(\"Please type an adjective and press enter: \")\n",
        "  noun:str = input(\"Please type a noun and press enter: \")\n",
        "  verb:str = input(\"Please type a verb and press enter: \")\n",
        "  print(f\"{SENTENCE_START} \\033[1m\\033[3m{adjective} {noun} {verb}\\033[0m!\")\n",
        "if __name__ == '__main__':\n",
        "    main()"
      ],
      "metadata": {
        "colab": {
          "base_uri": "https://localhost:8080/"
        },
        "id": "ChJCwb0W_Q1t",
        "outputId": "510bb5b9-6bd2-4da5-e5b8-347c4f3c7390"
      },
      "execution_count": 6,
      "outputs": [
        {
          "output_type": "stream",
          "name": "stdout",
          "text": [
            "Please type an adjective and press enter: black\n",
            "Please type a noun and press enter: car\n",
            "Please type a verb and press enter: fly\n",
            "Panaversity is fun. I learned to program and used Python to make my \u001b[1m\u001b[3mblack car fly\u001b[0m!\n"
          ]
        }
      ]
    }
  ]
}