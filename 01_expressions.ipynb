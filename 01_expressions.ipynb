{
  "nbformat": 4,
  "nbformat_minor": 0,
  "metadata": {
    "colab": {
      "provenance": [],
      "authorship_tag": "ABX9TyP99G2jdWVzmphw5GZFIUr0",
      "include_colab_link": true
    },
    "kernelspec": {
      "name": "python3",
      "display_name": "Python 3"
    },
    "language_info": {
      "name": "python"
    }
  },
  "cells": [
    {
      "cell_type": "markdown",
      "metadata": {
        "id": "view-in-github",
        "colab_type": "text"
      },
      "source": [
        "<a href=\"https://colab.research.google.com/github/nehaltariq357/project-4-assignments-colab/blob/main/01_expressions.ipynb\" target=\"_parent\"><img src=\"https://colab.research.google.com/assets/colab-badge.svg\" alt=\"Open In Colab\"/></a>"
      ]
    },
    {
      "cell_type": "markdown",
      "source": [],
      "metadata": {
        "id": "n7V_lDXPqRXM"
      }
    },
    {
      "cell_type": "markdown",
      "source": [
        "##01_dicesimulator"
      ],
      "metadata": {
        "id": "v8k531W4qV1F"
      }
    },
    {
      "cell_type": "code",
      "source": [
        "import random\n",
        "num_sides = 6\n",
        "def roll_dice():\n",
        "  '''\n",
        "  simulates rolling two dice and prints their total\n",
        "  '''\n",
        "  die1 = random.randint(1,num_sides) # die value randomly come from 1 to 6\n",
        "  die2 = random.randint(1,num_sides) # die value randomly come from 1 to 6\n",
        "  total = die1 + die2\n",
        "  print(f\"Dice 1 = {die1}\\nDice 2 = {die2}\\nThe total of two dice = {total}\")\n",
        "\n",
        "def main():\n",
        "  die1 = 10 # this die1 works in main()\n",
        "  print(f\"die1 in main() starts as: {die1}\")\n",
        "\n",
        "  #rolling dice 3 times\n",
        "  roll_dice()\n",
        "  roll_dice()\n",
        "  roll_dice()\n",
        "\n",
        "  print(f\"die1 in main() is: {die1}\")\n",
        "\n",
        "\n",
        "\n",
        "if __name__ == '__main__':\n",
        "    main()"
      ],
      "metadata": {
        "colab": {
          "base_uri": "https://localhost:8080/"
        },
        "id": "qd3TOqutta_0",
        "outputId": "eb84ebd0-6dcf-4fc9-91a2-a7ec1cb8df65"
      },
      "execution_count": 17,
      "outputs": [
        {
          "output_type": "stream",
          "name": "stdout",
          "text": [
            "die1 in main() starts as: 10\n",
            "Dice 1 = 4\n",
            "Dice 2 = 5\n",
            "The total of two dice = 9\n",
            "Dice 1 = 5\n",
            "Dice 2 = 3\n",
            "The total of two dice = 8\n",
            "Dice 1 = 6\n",
            "Dice 2 = 3\n",
            "The total of two dice = 9\n",
            "die1 in main() is: 10\n"
          ]
        }
      ]
    }
  ]
}