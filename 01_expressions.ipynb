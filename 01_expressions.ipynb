{
  "nbformat": 4,
  "nbformat_minor": 0,
  "metadata": {
    "colab": {
      "provenance": [],
      "authorship_tag": "ABX9TyMWkBy4KTfpYzeMt+Yo9qLG",
      "include_colab_link": true
    },
    "kernelspec": {
      "name": "python3",
      "display_name": "Python 3"
    },
    "language_info": {
      "name": "python"
    }
  },
  "cells": [
    {
      "cell_type": "markdown",
      "metadata": {
        "id": "view-in-github",
        "colab_type": "text"
      },
      "source": [
        "<a href=\"https://colab.research.google.com/github/nehaltariq357/project-4-assignments-colab/blob/main/01_expressions.ipynb\" target=\"_parent\"><img src=\"https://colab.research.google.com/assets/colab-badge.svg\" alt=\"Open In Colab\"/></a>"
      ]
    },
    {
      "cell_type": "markdown",
      "source": [],
      "metadata": {
        "id": "n7V_lDXPqRXM"
      }
    },
    {
      "cell_type": "markdown",
      "source": [
        "##01_dicesimulator"
      ],
      "metadata": {
        "id": "v8k531W4qV1F"
      }
    },
    {
      "cell_type": "code",
      "source": [
        "import random\n",
        "num_sides = 6\n",
        "def roll_dice():\n",
        "  '''\n",
        "  simulates rolling two dice and prints their total\n",
        "  '''\n",
        "  die1 = random.randint(1,num_sides) # die value randomly come from 1 to 6\n",
        "  die2 = random.randint(1,num_sides) # die value randomly come from 1 to 6\n",
        "  total = die1 + die2\n",
        "  print(f\"Dice 1 = {die1}\\nDice 2 = {die2}\\nThe total of two dice = {total}\")\n",
        "\n",
        "def main():\n",
        "  die1 = 10 # this die1 works in main()\n",
        "  print(f\"die1 in main() starts as: {die1}\")\n",
        "\n",
        "  #rolling dice 3 times\n",
        "  roll_dice()\n",
        "  roll_dice()\n",
        "  roll_dice()\n",
        "\n",
        "  print(f\"die1 in main() is: {die1}\")\n",
        "\n",
        "\n",
        "\n",
        "if __name__ == '__main__':\n",
        "    main()"
      ],
      "metadata": {
        "colab": {
          "base_uri": "https://localhost:8080/"
        },
        "id": "qd3TOqutta_0",
        "outputId": "eb84ebd0-6dcf-4fc9-91a2-a7ec1cb8df65"
      },
      "execution_count": null,
      "outputs": [
        {
          "output_type": "stream",
          "name": "stdout",
          "text": [
            "die1 in main() starts as: 10\n",
            "Dice 1 = 4\n",
            "Dice 2 = 5\n",
            "The total of two dice = 9\n",
            "Dice 1 = 5\n",
            "Dice 2 = 3\n",
            "The total of two dice = 8\n",
            "Dice 1 = 6\n",
            "Dice 2 = 3\n",
            "The total of two dice = 9\n",
            "die1 in main() is: 10\n"
          ]
        }
      ]
    },
    {
      "cell_type": "markdown",
      "source": [
        "##02_e=mc2\n",
        "formula E = m * c**2"
      ],
      "metadata": {
        "id": "A3PJE7sDvq0Z"
      }
    },
    {
      "cell_type": "code",
      "source": [
        "C:int = 299792458  # The speed of light in m/s\n",
        "def main():\n",
        "  mass_in_kg:float = float(input(\"Enter kilos of mass: \"))\n",
        "  #calculate energy\n",
        "  #equivalently energy = mass * (C**2)\n",
        "  #using ** operator to raise C to the power 2\n",
        "  energy_in_joules:float = mass_in_kg * (C ** 2)\n",
        "\n",
        "  # Display work to the user\n",
        "  print(\"e = m * C^2...\")\n",
        "  print(\"m = \" + str(mass_in_kg) + \" kg\")\n",
        "  print(\"C = \" + str(C) + \" m/s\")\n",
        "\n",
        "  print(str(energy_in_joules) + \" joules of energy!\")\n",
        "\n",
        "\n",
        "if __name__ == '__main__':\n",
        "    main()"
      ],
      "metadata": {
        "colab": {
          "base_uri": "https://localhost:8080/"
        },
        "id": "4n4OVuJMvs9f",
        "outputId": "798238fe-22bd-42fa-e725-c4fbdcd8c96a"
      },
      "execution_count": 6,
      "outputs": [
        {
          "output_type": "stream",
          "name": "stdout",
          "text": [
            "Enter kilos of mass: 100\n",
            "e = m * C^2...\n",
            "m = 100.0 kg\n",
            "C = 299792458 m/s\n",
            "8.987551787368176e+18 joules of energy!\n"
          ]
        }
      ]
    },
    {
      "cell_type": "markdown",
      "source": [
        "##03_feet_to_inches"
      ],
      "metadata": {
        "id": "ZKHHrbujKG9w"
      }
    },
    {
      "cell_type": "code",
      "source": [
        "inches_in_foot:int = 12\n",
        "def main():\n",
        "  number:float = float(input(\"Enter a number: \"))\n",
        "  label = \"foot\" if number ==1 else \"feet\"\n",
        "  print(f\"User Entered {number} {label}\")\n",
        "  feet:float = number\n",
        "  inches:float = inches_in_foot * feet\n",
        "  print(f\"That is {inches:.2f} inches\")\n",
        "\n",
        "if __name__ == '__main__':\n",
        "    main()"
      ],
      "metadata": {
        "colab": {
          "base_uri": "https://localhost:8080/"
        },
        "id": "LbD-vg3rKIbz",
        "outputId": "68454520-c1b9-4483-b927-b4ca9f9a9bdc"
      },
      "execution_count": 47,
      "outputs": [
        {
          "output_type": "stream",
          "name": "stdout",
          "text": [
            "Enter a number: 5.2\n",
            "User Entered 5.2 feet\n",
            "That is 62.40 inches\n"
          ]
        }
      ]
    }
  ]
}