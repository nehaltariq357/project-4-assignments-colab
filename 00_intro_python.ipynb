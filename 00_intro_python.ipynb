{
  "nbformat": 4,
  "nbformat_minor": 0,
  "metadata": {
    "colab": {
      "provenance": [],
      "authorship_tag": "ABX9TyN7+I0eXQElzLNrLFL0T5d8",
      "include_colab_link": true
    },
    "kernelspec": {
      "name": "python3",
      "display_name": "Python 3"
    },
    "language_info": {
      "name": "python"
    }
  },
  "cells": [
    {
      "cell_type": "markdown",
      "metadata": {
        "id": "view-in-github",
        "colab_type": "text"
      },
      "source": [
        "<a href=\"https://colab.research.google.com/github/nehaltariq357/project-4-assignments-colab/blob/main/00_intro_python.ipynb\" target=\"_parent\"><img src=\"https://colab.research.google.com/assets/colab-badge.svg\" alt=\"Open In Colab\"/></a>"
      ]
    },
    {
      "cell_type": "markdown",
      "source": [
        "##01_add_two_numbers"
      ],
      "metadata": {
        "id": "u8NNMFMcqCTK"
      }
    },
    {
      "cell_type": "markdown",
      "source": [],
      "metadata": {
        "id": "aSkyMSeXpmz3"
      }
    },
    {
      "cell_type": "code",
      "source": [
        "def main():\n",
        "  num1 = input(\"Enter the first number: \")\n",
        "  num1 = int(num1)\n",
        "  num2 = input(\"Enter the second number: \")\n",
        "  num2 = int(num2)\n",
        "  total = num1 + num2\n",
        "  print(f\"sum of {num1} and {num2} is {total}\")\n",
        "\n",
        "\n",
        "if __name__ == '__main__':\n",
        "    main()"
      ],
      "metadata": {
        "colab": {
          "base_uri": "https://localhost:8080/"
        },
        "id": "JoTK8YtAqFZO",
        "outputId": "c8b6ec42-4081-4589-ad52-007457474d32"
      },
      "execution_count": null,
      "outputs": [
        {
          "output_type": "stream",
          "name": "stdout",
          "text": [
            "Enter the first number: 5\n",
            "Enter the second number: 2\n",
            "sum of 5 and 2 is 7\n"
          ]
        }
      ]
    },
    {
      "cell_type": "markdown",
      "source": [
        "##02_agreement_bot"
      ],
      "metadata": {
        "id": "zkuSRqURvizI"
      }
    },
    {
      "cell_type": "code",
      "source": [
        "def main():\n",
        "  user_input = input(\"What's your favorite animal? \")\n",
        "  print(f\"My favorite animal is also \\033[1m\\033[3m{user_input}\\033[0m\")\n",
        "\n",
        "\n",
        "if __name__ == '__main__':\n",
        "    main()"
      ],
      "metadata": {
        "colab": {
          "base_uri": "https://localhost:8080/"
        },
        "id": "a4kJrrfjvsps",
        "outputId": "e128bf2d-19ce-40f9-94c4-2d9c4c2701db"
      },
      "execution_count": null,
      "outputs": [
        {
          "output_type": "stream",
          "name": "stdout",
          "text": [
            "What's your favorite animal? goat\n",
            "My favorite animal is also \u001b[1m\u001b[3mgoat\u001b[0m\n"
          ]
        }
      ]
    },
    {
      "cell_type": "markdown",
      "source": [
        "##03_fahrenheit_to_celsius"
      ],
      "metadata": {
        "id": "Zo2CGsfKpovV"
      }
    },
    {
      "cell_type": "code",
      "source": [
        "def main():\n",
        "  degree_Fahrenheit = float(input(\"Enter temperature in Fahrenheit: \"))\n",
        "  degree_celsius = (degree_Fahrenheit - 32) * 5/9\n",
        "  print(f\"Temperature: {degree_Fahrenheit}F = {degree_celsius}C\")\n",
        "if __name__ == '__main__':\n",
        "    main()"
      ],
      "metadata": {
        "colab": {
          "base_uri": "https://localhost:8080/"
        },
        "id": "uVYtogHxprPq",
        "outputId": "64dd3f60-25cb-4959-c8cd-99ef840e3673"
      },
      "execution_count": 3,
      "outputs": [
        {
          "output_type": "stream",
          "name": "stdout",
          "text": [
            "Enter temperature in Fahrenheit: 100\n",
            "Temperature: 100.0F = 37.77777777777778C\n"
          ]
        }
      ]
    },
    {
      "cell_type": "markdown",
      "source": [
        "##04_how_old_are_they"
      ],
      "metadata": {
        "id": "Q4Q9odGRrxz9"
      }
    },
    {
      "cell_type": "code",
      "source": [
        "def main():\n",
        "  anton:int = 21 # anton's age is given as 21 year old\n",
        "  beth:int = 6 + anton\n",
        "  chen:int =\n",
        "\n",
        "if __name__ == '__main__':\n",
        "    main()"
      ],
      "metadata": {
        "id": "T5OIwk1er2Xq",
        "outputId": "63107953-d241-449e-d108-7743287ac9d7",
        "colab": {
          "base_uri": "https://localhost:8080/",
          "height": 110
        }
      },
      "execution_count": 4,
      "outputs": [
        {
          "output_type": "error",
          "ename": "IndentationError",
          "evalue": "expected an indented block after function definition on line 1 (<ipython-input-4-e53f315e18c9>, line 7)",
          "traceback": [
            "\u001b[0;36m  File \u001b[0;32m\"<ipython-input-4-e53f315e18c9>\"\u001b[0;36m, line \u001b[0;32m7\u001b[0m\n\u001b[0;31m    if __name__ == '__main__':\u001b[0m\n\u001b[0m    ^\u001b[0m\n\u001b[0;31mIndentationError\u001b[0m\u001b[0;31m:\u001b[0m expected an indented block after function definition on line 1\n"
          ]
        }
      ]
    }
  ]
}