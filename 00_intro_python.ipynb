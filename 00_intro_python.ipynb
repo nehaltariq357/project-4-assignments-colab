{
  "nbformat": 4,
  "nbformat_minor": 0,
  "metadata": {
    "colab": {
      "provenance": [],
      "authorship_tag": "ABX9TyNI0RU4rAgzHhyg4zUsVbBw",
      "include_colab_link": true
    },
    "kernelspec": {
      "name": "python3",
      "display_name": "Python 3"
    },
    "language_info": {
      "name": "python"
    }
  },
  "cells": [
    {
      "cell_type": "markdown",
      "metadata": {
        "id": "view-in-github",
        "colab_type": "text"
      },
      "source": [
        "<a href=\"https://colab.research.google.com/github/nehaltariq357/project-4-assignments-colab/blob/main/00_intro_python.ipynb\" target=\"_parent\"><img src=\"https://colab.research.google.com/assets/colab-badge.svg\" alt=\"Open In Colab\"/></a>"
      ]
    },
    {
      "cell_type": "markdown",
      "source": [
        "##01_add_two_numbers"
      ],
      "metadata": {
        "id": "u8NNMFMcqCTK"
      }
    },
    {
      "cell_type": "code",
      "source": [
        "def main():\n",
        "  num1 = input(\"Enter the first number: \")\n",
        "  num1 = int(num1)\n",
        "  num2 = input(\"Enter the second number: \")\n",
        "  num2 = int(num2)\n",
        "  total = num1 + num2\n",
        "  print(f\"sum of {num1} and {num2} is {total}\")\n",
        "\n",
        "\n",
        "if __name__ == '__main__':\n",
        "    main()"
      ],
      "metadata": {
        "colab": {
          "base_uri": "https://localhost:8080/"
        },
        "id": "JoTK8YtAqFZO",
        "outputId": "c8b6ec42-4081-4589-ad52-007457474d32"
      },
      "execution_count": 5,
      "outputs": [
        {
          "output_type": "stream",
          "name": "stdout",
          "text": [
            "Enter the first number: 5\n",
            "Enter the second number: 2\n",
            "sum of 5 and 2 is 7\n"
          ]
        }
      ]
    },
    {
      "cell_type": "markdown",
      "source": [
        "##02_agreement_bot"
      ],
      "metadata": {
        "id": "zkuSRqURvizI"
      }
    },
    {
      "cell_type": "code",
      "source": [
        "def main():\n",
        "  user_input = input(\"What's your favorite animal? \")\n",
        "  print(f\"My favorite animal is also \\033[1m\\033[3m{user_input}\\033[0m\")\n",
        "\n",
        "\n",
        "if __name__ == '__main__':\n",
        "    main()"
      ],
      "metadata": {
        "colab": {
          "base_uri": "https://localhost:8080/"
        },
        "id": "a4kJrrfjvsps",
        "outputId": "e128bf2d-19ce-40f9-94c4-2d9c4c2701db"
      },
      "execution_count": 11,
      "outputs": [
        {
          "output_type": "stream",
          "name": "stdout",
          "text": [
            "What's your favorite animal? goat\n",
            "My favorite animal is also \u001b[1m\u001b[3mgoat\u001b[0m\n"
          ]
        }
      ]
    }
  ]
}