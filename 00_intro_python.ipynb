{
  "nbformat": 4,
  "nbformat_minor": 0,
  "metadata": {
    "colab": {
      "provenance": [],
      "authorship_tag": "ABX9TyNHfj+O+oCERuECZEmlTe1t",
      "include_colab_link": true
    },
    "kernelspec": {
      "name": "python3",
      "display_name": "Python 3"
    },
    "language_info": {
      "name": "python"
    }
  },
  "cells": [
    {
      "cell_type": "markdown",
      "metadata": {
        "id": "view-in-github",
        "colab_type": "text"
      },
      "source": [
        "<a href=\"https://colab.research.google.com/github/nehaltariq357/project-4-assignments-colab/blob/main/00_intro_python.ipynb\" target=\"_parent\"><img src=\"https://colab.research.google.com/assets/colab-badge.svg\" alt=\"Open In Colab\"/></a>"
      ]
    },
    {
      "cell_type": "markdown",
      "source": [
        "##01_add_two_numbers"
      ],
      "metadata": {
        "id": "u8NNMFMcqCTK"
      }
    },
    {
      "cell_type": "markdown",
      "source": [],
      "metadata": {
        "id": "aSkyMSeXpmz3"
      }
    },
    {
      "cell_type": "code",
      "source": [
        "def main():\n",
        "  num1 = input(\"Enter the first number: \")\n",
        "  num1 = int(num1)\n",
        "  num2 = input(\"Enter the second number: \")\n",
        "  num2 = int(num2)\n",
        "  total = num1 + num2\n",
        "  print(f\"sum of {num1} and {num2} is {total}\")\n",
        "\n",
        "\n",
        "if __name__ == '__main__':\n",
        "    main()"
      ],
      "metadata": {
        "colab": {
          "base_uri": "https://localhost:8080/"
        },
        "id": "JoTK8YtAqFZO",
        "outputId": "76e02024-d76a-4202-e75d-4d2a4d336803"
      },
      "execution_count": null,
      "outputs": [
        {
          "output_type": "stream",
          "name": "stdout",
          "text": [
            "Enter the first number: 5\n",
            "Enter the second number: 2\n",
            "sum of 5 and 2 is 7\n"
          ]
        }
      ]
    },
    {
      "cell_type": "markdown",
      "source": [
        "##02_agreement_bot"
      ],
      "metadata": {
        "id": "zkuSRqURvizI"
      }
    },
    {
      "cell_type": "code",
      "source": [
        "def main():\n",
        "  user_input = input(\"What's your favorite animal? \")\n",
        "  print(f\"My favorite animal is also \\033[1m\\033[3m{user_input}\\033[0m\")\n",
        "\n",
        "\n",
        "if __name__ == '__main__':\n",
        "    main()"
      ],
      "metadata": {
        "colab": {
          "base_uri": "https://localhost:8080/"
        },
        "id": "a4kJrrfjvsps",
        "outputId": "e128bf2d-19ce-40f9-94c4-2d9c4c2701db"
      },
      "execution_count": null,
      "outputs": [
        {
          "output_type": "stream",
          "name": "stdout",
          "text": [
            "What's your favorite animal? goat\n",
            "My favorite animal is also \u001b[1m\u001b[3mgoat\u001b[0m\n"
          ]
        }
      ]
    },
    {
      "cell_type": "markdown",
      "source": [
        "##03_fahrenheit_to_celsius"
      ],
      "metadata": {
        "id": "Zo2CGsfKpovV"
      }
    },
    {
      "cell_type": "code",
      "source": [
        "def main():\n",
        "  degree_Fahrenheit = float(input(\"Enter temperature in Fahrenheit: \"))\n",
        "  degree_celsius = (degree_Fahrenheit - 32) * 5/9\n",
        "  print(f\"Temperature: {degree_Fahrenheit}F = {degree_celsius}C\")\n",
        "if __name__ == '__main__':\n",
        "    main()"
      ],
      "metadata": {
        "colab": {
          "base_uri": "https://localhost:8080/"
        },
        "id": "uVYtogHxprPq",
        "outputId": "64dd3f60-25cb-4959-c8cd-99ef840e3673"
      },
      "execution_count": null,
      "outputs": [
        {
          "output_type": "stream",
          "name": "stdout",
          "text": [
            "Enter temperature in Fahrenheit: 100\n",
            "Temperature: 100.0F = 37.77777777777778C\n"
          ]
        }
      ]
    },
    {
      "cell_type": "markdown",
      "source": [
        "##04_how_old_are_they"
      ],
      "metadata": {
        "id": "Q4Q9odGRrxz9"
      }
    },
    {
      "cell_type": "code",
      "source": [
        "def main():\n",
        "  anton:int = 21 # anton's age is given as 21 year old\n",
        "  beth:int = 6 + anton # beth is 6 year older than anton\n",
        "  chen:int = 20 + beth # chen is 20 year older than beth\n",
        "  drew:int = chen + anton # drew is old as chen's age plus anton's age, so add them together\n",
        "  ethan:int = chen # ethan is the same age as chen\n",
        "\n",
        "  # Print out all of the ages!\n",
        "  print(\"Anton is \" + str(anton))\n",
        "  print(\"Beth is \" + str(beth))\n",
        "  print(\"Chen is \" + str(chen))\n",
        "  print(\"Drew is \" + str(drew))\n",
        "  print(\"Ethan is \" + str(ethan))\n",
        "\n",
        "\n",
        "if __name__ == '__main__':\n",
        "    main()"
      ],
      "metadata": {
        "id": "T5OIwk1er2Xq",
        "outputId": "699be284-8148-41ca-89b3-43b3de3edfb9",
        "colab": {
          "base_uri": "https://localhost:8080/"
        }
      },
      "execution_count": null,
      "outputs": [
        {
          "output_type": "stream",
          "name": "stdout",
          "text": [
            "Anton is 21\n",
            "Beth is 27\n",
            "Chen is 47\n",
            "Drew is 68\n",
            "Ethan is 47\n"
          ]
        }
      ]
    },
    {
      "cell_type": "markdown",
      "source": [
        "##05_triangle_perimeter"
      ],
      "metadata": {
        "id": "UsexjMm6_NyU"
      }
    },
    {
      "cell_type": "code",
      "source": [
        "def main():\n",
        "  side1:float = float(input(\"What is the length of side 1? \"))\n",
        "  side2:float = float(input(\"What is the length of side 2? \"))\n",
        "  side3:float = float(input(\"What is the length of side 3? \"))\n",
        "  perimeter =side1 + side2 + side3\n",
        "  print(f\"The perimeter of the triangle is \\033[1m\\033[3m{perimeter}\\033[0m\")\n",
        "if __name__ == '__main__':\n",
        "    main()"
      ],
      "metadata": {
        "id": "Zr7F7Z42_Pr9",
        "colab": {
          "base_uri": "https://localhost:8080/"
        },
        "outputId": "242d0e0f-8a43-4872-9b34-989cb9371a5f"
      },
      "execution_count": 7,
      "outputs": [
        {
          "output_type": "stream",
          "name": "stdout",
          "text": [
            "What is the length of side 1? 5\n",
            "What is the length of side 2? 2\n",
            "What is the length of side 3? 5.5\n",
            "The perimeter of the triangle is \u001b[1m\u001b[3m12.5\u001b[0m\n"
          ]
        }
      ]
    },
    {
      "cell_type": "markdown",
      "source": [
        "##06_square_number"
      ],
      "metadata": {
        "id": "H1wcKWDytazE"
      }
    },
    {
      "cell_type": "code",
      "source": [
        "def main():\n",
        "  num:float = float(input(\"Type a number to see its square: \"))\n",
        "  square:float = num ** 2 # num * num is equivalent to num**2.The ** operator raises something to a power!\n",
        "  print(f\"{num} squared is \\033[1m\\033[3m{square}\\033[0m\")\n",
        "if __name__ == '__main__':\n",
        "    main()"
      ],
      "metadata": {
        "id": "yrQzAX5dtc98",
        "outputId": "44362a40-3d2d-457e-af9f-89c27ebe0c1c",
        "colab": {
          "base_uri": "https://localhost:8080/"
        }
      },
      "execution_count": 12,
      "outputs": [
        {
          "output_type": "stream",
          "name": "stdout",
          "text": [
            "Type a number to see its square: 5\n",
            "5.0 squared is \u001b[1m\u001b[3m25.0\u001b[0m\n"
          ]
        }
      ]
    }
  ]
}