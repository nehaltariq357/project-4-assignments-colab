{
  "nbformat": 4,
  "nbformat_minor": 0,
  "metadata": {
    "colab": {
      "provenance": [],
      "authorship_tag": "ABX9TyPkZimez8111YEdjVo9E605",
      "include_colab_link": true
    },
    "kernelspec": {
      "name": "python3",
      "display_name": "Python 3"
    },
    "language_info": {
      "name": "python"
    }
  },
  "cells": [
    {
      "cell_type": "markdown",
      "metadata": {
        "id": "view-in-github",
        "colab_type": "text"
      },
      "source": [
        "<a href=\"https://colab.research.google.com/github/nehaltariq357/project-4-assignments-colab/blob/main/02_lists.ipynb\" target=\"_parent\"><img src=\"https://colab.research.google.com/assets/colab-badge.svg\" alt=\"Open In Colab\"/></a>"
      ]
    },
    {
      "cell_type": "markdown",
      "source": [
        "##01_add_many_number"
      ],
      "metadata": {
        "id": "CH5XjlNSEBl9"
      }
    },
    {
      "cell_type": "code",
      "source": [
        "\n",
        "def add_many_number(numbers)->int:\n",
        "  '''\n",
        "  Takes a list of numbers and return the sum of those numbers.\n",
        "  '''\n",
        "  total_so_far = 0\n",
        "  for num in numbers:\n",
        "    total_so_far +=num\n",
        "\n",
        "  return total_so_far\n",
        "\n",
        "\n",
        "\n",
        "def main():\n",
        "  numbers:list[int] = [1,2,3,4,5] # make a list of numbers\n",
        "  sun_of_numbers:int = add_many_number(numbers)\n",
        "  print(sun_of_numbers) # print out the sum above\n",
        "\n",
        "if __name__ == '__main__':\n",
        "    main()"
      ],
      "metadata": {
        "colab": {
          "base_uri": "https://localhost:8080/"
        },
        "id": "Kh8qxM24rN5E",
        "outputId": "5ecad8b8-b5e8-4e63-cd30-93f5fe2bd2b9"
      },
      "execution_count": null,
      "outputs": [
        {
          "output_type": "stream",
          "name": "stdout",
          "text": [
            "15\n"
          ]
        }
      ]
    },
    {
      "cell_type": "markdown",
      "source": [
        "##02_double_list\n",
        "Write a program that doubles each element in a list of numbers. For example, if you start with this list:\n",
        "\n",
        "numbers = [1, 2, 3, 4]\n",
        "\n",
        "You should end with this list:\n",
        "\n",
        "numbers = [2, 4, 6, 8]"
      ],
      "metadata": {
        "id": "UxkEWQr1u_5t"
      }
    },
    {
      "cell_type": "code",
      "source": [
        "def main():\n",
        "  numbers:list[int] = [1,2,3,4]\n",
        "  for i in range(len(numbers)):\n",
        "    element_at_index = numbers[i] #getting list value from indexing\n",
        "    numbers[i] = element_at_index * 2 # multiplying value by 2 and updating list value with the help of indexing\n",
        "\n",
        "  print(numbers)  # This should print the doubled list\n",
        "if __name__ == '__main__':\n",
        "    main()"
      ],
      "metadata": {
        "colab": {
          "base_uri": "https://localhost:8080/"
        },
        "id": "IgsTSKBtVFLt",
        "outputId": "1f810f5e-e78e-4e2a-c1a1-a3858ef4e996"
      },
      "execution_count": 10,
      "outputs": [
        {
          "output_type": "stream",
          "name": "stdout",
          "text": [
            "[2, 4, 6, 8]\n"
          ]
        }
      ]
    }
  ]
}