{
  "nbformat": 4,
  "nbformat_minor": 0,
  "metadata": {
    "colab": {
      "provenance": [],
      "authorship_tag": "ABX9TyNwhgbbDL3HW9MvH4oaTtr5",
      "include_colab_link": true
    },
    "kernelspec": {
      "name": "python3",
      "display_name": "Python 3"
    },
    "language_info": {
      "name": "python"
    }
  },
  "cells": [
    {
      "cell_type": "markdown",
      "metadata": {
        "id": "view-in-github",
        "colab_type": "text"
      },
      "source": [
        "<a href=\"https://colab.research.google.com/github/nehaltariq357/project-4-assignments-colab/blob/main/02_lists.ipynb\" target=\"_parent\"><img src=\"https://colab.research.google.com/assets/colab-badge.svg\" alt=\"Open In Colab\"/></a>"
      ]
    },
    {
      "cell_type": "markdown",
      "source": [
        "##01_add_many_number"
      ],
      "metadata": {
        "id": "CH5XjlNSEBl9"
      }
    },
    {
      "cell_type": "code",
      "source": [
        "\n",
        "def add_many_number(numbers)->int:\n",
        "  '''\n",
        "  Takes a list of numbers and return the sum of those numbers.\n",
        "  '''\n",
        "  total_so_far = 0\n",
        "  for num in numbers:\n",
        "    total_so_far +=num\n",
        "\n",
        "  return total_so_far\n",
        "\n",
        "\n",
        "\n",
        "def main():\n",
        "  numbers:list[int] = [1,2,3,4,5] # make a list of numbers\n",
        "  sun_of_numbers:int = add_many_number(numbers)\n",
        "  print(sun_of_numbers) # print out the sum above\n",
        "\n",
        "if __name__ == '__main__':\n",
        "    main()"
      ],
      "metadata": {
        "colab": {
          "base_uri": "https://localhost:8080/"
        },
        "id": "Kh8qxM24rN5E",
        "outputId": "5ecad8b8-b5e8-4e63-cd30-93f5fe2bd2b9"
      },
      "execution_count": null,
      "outputs": [
        {
          "output_type": "stream",
          "name": "stdout",
          "text": [
            "15\n"
          ]
        }
      ]
    },
    {
      "cell_type": "markdown",
      "source": [
        "##02_double_list\n",
        "Write a program that doubles each element in a list of numbers. For example, if you start with this list:\n",
        "\n",
        "numbers = [1, 2, 3, 4]\n",
        "\n",
        "You should end with this list:\n",
        "\n",
        "numbers = [2, 4, 6, 8]"
      ],
      "metadata": {
        "id": "UxkEWQr1u_5t"
      }
    },
    {
      "cell_type": "code",
      "source": [
        "def main():\n",
        "  numbers:list[int] = [1,2,3,4]\n",
        "  for i in range(len(numbers)):\n",
        "    element_at_index = numbers[i] #getting list value from indexing\n",
        "    numbers[i] = element_at_index * 2 # multiplying value by 2 and updating list value with the help of indexing\n",
        "\n",
        "  print(numbers)  # This should print the doubled list\n",
        "if __name__ == '__main__':\n",
        "    main()"
      ],
      "metadata": {
        "colab": {
          "base_uri": "https://localhost:8080/"
        },
        "id": "IgsTSKBtVFLt",
        "outputId": "1f810f5e-e78e-4e2a-c1a1-a3858ef4e996"
      },
      "execution_count": null,
      "outputs": [
        {
          "output_type": "stream",
          "name": "stdout",
          "text": [
            "[2, 4, 6, 8]\n"
          ]
        }
      ]
    },
    {
      "cell_type": "markdown",
      "source": [
        "##03_erase_canvas"
      ],
      "metadata": {
        "id": "aRE266IdZCff"
      }
    },
    {
      "cell_type": "code",
      "source": [
        "\"will be continue\""
      ],
      "metadata": {
        "id": "D_VQfh80ZH4x"
      },
      "execution_count": null,
      "outputs": []
    },
    {
      "cell_type": "markdown",
      "source": [
        "##04_flowing_with_data_structures"
      ],
      "metadata": {
        "id": "0dlJCutSbmR-"
      }
    },
    {
      "cell_type": "code",
      "source": [
        "def add_three_Copies(my_list,data):\n",
        "  for i in range(3):\n",
        "    my_list.append(data)\n",
        "\n",
        "\n",
        "def main():\n",
        "  message = input(\"Enter a message to copy: \")\n",
        "  my_list = []\n",
        "  print(\"list before\",my_list)\n",
        "  add_three_Copies(my_list,message)\n",
        "  print(\"list after\",my_list)\n",
        "\n",
        "\n",
        "if __name__ == '__main__':\n",
        "    main()"
      ],
      "metadata": {
        "colab": {
          "base_uri": "https://localhost:8080/"
        },
        "id": "4oZmH-bQis4_",
        "outputId": "798d34e2-6a5d-4c9b-b16c-eecef348993d"
      },
      "execution_count": null,
      "outputs": [
        {
          "output_type": "stream",
          "name": "stdout",
          "text": [
            "Enter a message to copy: nehal\n",
            "list before []\n",
            "list after ['nehal', 'nehal', 'nehal']\n"
          ]
        }
      ]
    },
    {
      "cell_type": "markdown",
      "source": [
        "##05_get_first_element\n"
      ],
      "metadata": {
        "id": "dgik9i_FmJuv"
      }
    },
    {
      "cell_type": "code",
      "source": [
        "def get_first_element(lst):\n",
        "  '''\n",
        "  print the first element of a provided list\n",
        "  '''\n",
        "  print(lst[0])\n",
        "\n",
        "def get_lst():\n",
        "  '''\n",
        "  prompt the user to enter one element of the list at a time and returns the resulting list.\n",
        "  '''\n",
        "  lst = []\n",
        "  element:str = input(\"please enter an element of the list or press enter to stop. \")\n",
        "  while element != \"\":\n",
        "    lst.append(element)\n",
        "    element:str = input(\"please enter an element of the list or press enter to stop. \")\n",
        "  return lst\n",
        "\n",
        "def main():\n",
        "    lst = get_lst()\n",
        "    get_first_element(lst)\n",
        "\n",
        "if __name__ == '__main__':\n",
        "    main()"
      ],
      "metadata": {
        "colab": {
          "base_uri": "https://localhost:8080/"
        },
        "id": "WUKMSQFAmOuy",
        "outputId": "54eb5bb8-0c2b-4afe-be88-0a07cc5f0577"
      },
      "execution_count": null,
      "outputs": [
        {
          "output_type": "stream",
          "name": "stdout",
          "text": [
            "please enter an element of the list or press enter to stop. apple \n",
            "please enter an element of the list or press enter to stop. banana\n",
            "please enter an element of the list or press enter to stop. mango\n",
            "please enter an element of the list or press enter to stop. \n",
            "apple \n"
          ]
        }
      ]
    },
    {
      "cell_type": "markdown",
      "source": [
        "##06_get_last_element"
      ],
      "metadata": {
        "id": "BSA_I1lHsyR-"
      }
    },
    {
      "cell_type": "code",
      "source": [
        "def get_last_element(lst):\n",
        "  print(lst[-1])\n",
        "\n",
        "def get_lst():\n",
        "  lst = []\n",
        "  element = input(\"enter an element to the list or press enter to stop. \")\n",
        "  while element:\n",
        "    lst.append(element)\n",
        "    element = input(\"enter an element to the list or press enter to stop. \")\n",
        "  return lst\n",
        "\n",
        "\n",
        "\n",
        "def main():\n",
        "  lst = get_lst()\n",
        "  get_last_element(lst)\n",
        "\n",
        "if __name__ == '__main__':\n",
        "    main()"
      ],
      "metadata": {
        "colab": {
          "base_uri": "https://localhost:8080/"
        },
        "id": "ofUe9VttszhX",
        "outputId": "6ca4d6aa-a3e9-48c4-ec36-2bf264ad1494"
      },
      "execution_count": null,
      "outputs": [
        {
          "output_type": "stream",
          "name": "stdout",
          "text": [
            "enter an element to the list or press enter to stop. apple\n",
            "enter an element to the list or press enter to stop. banana\n",
            "enter an element to the list or press enter to stop. mango\n",
            "enter an element to the list or press enter to stop. cherry\n",
            "enter an element to the list or press enter to stop. \n",
            "cherry\n"
          ]
        }
      ]
    },
    {
      "cell_type": "markdown",
      "source": [
        "#06 accessing last element(practice)\n"
      ],
      "metadata": {
        "id": "pw4LFwzOyLca"
      }
    },
    {
      "cell_type": "code",
      "source": [
        "my_list = [\"apple\",\"mango\",\"banana\",\"cherry\"]\n",
        "print(my_list[len(my_list)-1]) # len of list is 4 , in index wise 3 , to get access element from index, we should -1 from len of list,it is eqaul to last element of list"
      ],
      "metadata": {
        "colab": {
          "base_uri": "https://localhost:8080/"
        },
        "id": "2ilcb9a9wWfg",
        "outputId": "02fe3ba1-e9a5-4b69-afaa-4c9889231f42"
      },
      "execution_count": null,
      "outputs": [
        {
          "output_type": "stream",
          "name": "stdout",
          "text": [
            "cherry\n"
          ]
        }
      ]
    },
    {
      "cell_type": "markdown",
      "source": [
        "##07_get_list"
      ],
      "metadata": {
        "id": "rr7S7pK4yneH"
      }
    },
    {
      "cell_type": "code",
      "source": [
        "def main():\n",
        "  lst = []  # Make an empty list to store things in\n",
        "  element = input(\"Enter a value: \") # Get an initial value\n",
        "  while element: # While the user input isn't an empty value\n",
        "    lst.append(element)  # Add element to list\n",
        "    element = input(\"Enter a value: \") # Get the next element to add\n",
        "  print(\"Here's the list:\", lst)\n",
        "\n",
        "if __name__ == '__main__':\n",
        "    main()"
      ],
      "metadata": {
        "colab": {
          "base_uri": "https://localhost:8080/"
        },
        "id": "VMC1QOqLyoyh",
        "outputId": "5b74f9f3-df3d-4ba0-a086-a449c9f7bd8f"
      },
      "execution_count": null,
      "outputs": [
        {
          "output_type": "stream",
          "name": "stdout",
          "text": [
            "Enter a value: apple\n",
            "Enter a value: mango\n",
            "Enter a value: cherry\n",
            "Enter a value: \n",
            "Here's the list: ['apple', 'mango', 'cherry']\n"
          ]
        }
      ]
    },
    {
      "cell_type": "markdown",
      "source": [
        "##08_shorten"
      ],
      "metadata": {
        "id": "-vE9eg1wiENc"
      }
    },
    {
      "cell_type": "code",
      "source": [
        "# Jab tak list ka length MAX_LENGTH se zyada hai:\n",
        "# pop() se last element hatao\n",
        "# print() karo usey\n",
        "#remove element print ho rha ha\n",
        "max_length:int = 3\n",
        "\n",
        "def shorten(lst):\n",
        "  while len(lst) > max_length:\n",
        "    last_element = lst.pop()\n",
        "    print(last_element)\n",
        "\n",
        "def get_lst():\n",
        "  lst = []\n",
        "  element = input(\"Please enter an element of the list or press enter to stop. \")\n",
        "  while element:\n",
        "    lst.append(element)\n",
        "    element = input(\"Please enter an element of the list or press enter to stop. \")\n",
        "  return lst\n",
        "\n",
        "\n",
        "def main():\n",
        "  lst = get_lst()\n",
        "  shorten(lst)\n",
        "\n",
        "if __name__ == '__main__':\n",
        "    main()"
      ],
      "metadata": {
        "colab": {
          "base_uri": "https://localhost:8080/"
        },
        "id": "gsPUluHQiHR8",
        "outputId": "16f31f67-45b7-4719-b57f-6d00408ab249"
      },
      "execution_count": null,
      "outputs": [
        {
          "output_type": "stream",
          "name": "stdout",
          "text": [
            "Please enter an element of the list or press enter to stop. 1\n",
            "Please enter an element of the list or press enter to stop. 2\n",
            "Please enter an element of the list or press enter to stop. 3\n",
            "Please enter an element of the list or press enter to stop. 4\n",
            "Please enter an element of the list or press enter to stop. 5\n",
            "Please enter an element of the list or press enter to stop. 6\n",
            "Please enter an element of the list or press enter to stop. 7\n",
            "Please enter an element of the list or press enter to stop. 8\n",
            "Please enter an element of the list or press enter to stop. 9\n",
            "Please enter an element of the list or press enter to stop. 10\n",
            "Please enter an element of the list or press enter to stop. \n",
            "10\n",
            "9\n",
            "8\n",
            "7\n",
            "6\n",
            "5\n",
            "4\n"
          ]
        }
      ]
    }
  ]
}