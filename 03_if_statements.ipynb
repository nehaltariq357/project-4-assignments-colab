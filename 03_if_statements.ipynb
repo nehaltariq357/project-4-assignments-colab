{
  "nbformat": 4,
  "nbformat_minor": 0,
  "metadata": {
    "colab": {
      "provenance": [],
      "authorship_tag": "ABX9TyNUZcubfIfbwipGtnAlwaeH",
      "include_colab_link": true
    },
    "kernelspec": {
      "name": "python3",
      "display_name": "Python 3"
    },
    "language_info": {
      "name": "python"
    }
  },
  "cells": [
    {
      "cell_type": "markdown",
      "metadata": {
        "id": "view-in-github",
        "colab_type": "text"
      },
      "source": [
        "<a href=\"https://colab.research.google.com/github/nehaltariq357/project-4-assignments-colab/blob/main/03_if_statements.ipynb\" target=\"_parent\"><img src=\"https://colab.research.google.com/assets/colab-badge.svg\" alt=\"Open In Colab\"/></a>"
      ]
    },
    {
      "cell_type": "markdown",
      "source": [
        "##01_print_events"
      ],
      "metadata": {
        "id": "R4_EuCKSepLm"
      }
    },
    {
      "cell_type": "code",
      "source": [
        "def main():\n",
        "    # This for-loop start at 0 and counts up to 19 (for a total of 20 numbers)\n",
        "  for i in range(20):\n",
        "    print(i*2) # Use the 'i' value inside the for-loop\n",
        "if __name__ == '__main__':\n",
        "    main()"
      ],
      "metadata": {
        "colab": {
          "base_uri": "https://localhost:8080/"
        },
        "id": "Y27nlau0etdn",
        "outputId": "528c1beb-bd36-402c-eb1a-f3381e4106ea"
      },
      "execution_count": null,
      "outputs": [
        {
          "output_type": "stream",
          "name": "stdout",
          "text": [
            "0\n",
            "2\n",
            "4\n",
            "6\n",
            "8\n",
            "10\n",
            "12\n",
            "14\n",
            "16\n",
            "18\n",
            "20\n",
            "22\n",
            "24\n",
            "26\n",
            "28\n",
            "30\n",
            "32\n",
            "34\n",
            "36\n",
            "38\n"
          ]
        }
      ]
    },
    {
      "cell_type": "markdown",
      "source": [
        "##02_international_voting_age"
      ],
      "metadata": {
        "id": "3CgrvKUVgEdg"
      }
    },
    {
      "cell_type": "code",
      "source": [
        "PETURKSBOUIPO_AGE: int = 16\n",
        "STANLAU_AGE: int = 25\n",
        "MAYENGUA_AGE: int = 48\n",
        "BLUE = \"\\033[94m\"\n",
        "GREEN = \"\\033[92m\"\n",
        "RED = \"\\033[91m\"\n",
        "RESET = \"\\033[0m\"\n",
        "def main():\n",
        "  user_age: int = int(input(f\"How old are you?: \"))\n",
        "  print(f\"{BLUE}{user_age}{RESET}\")\n",
        "  # Check if the user can vote in Peturksbouipo\n",
        "\n",
        "  if user_age >= PETURKSBOUIPO_AGE:\n",
        "    print(f\"{GREEN}You can vote in Peturksbouipo where the voting age is {PETURKSBOUIPO_AGE}{RESET}\")\n",
        "\n",
        "  else :\n",
        "    print(f\"{RED}You cannot vote in Peturksbouipo where the voting age is {PETURKSBOUIPO_AGE}{RESET}\")\n",
        "\n",
        " # Check if the user can vote in Stanlau\n",
        "  if user_age >= STANLAU_AGE:\n",
        "        print(f\"{GREEN}You can vote in Stanlau where the voting age is {STANLAU_AGE} {RESET}\")\n",
        "  else:\n",
        "        print(f\"{RED}You cannot vote in Stanlau where the voting age is {STANLAU_AGE} {RESET}\")\n",
        "\n",
        "    # Check if user can vote in Mayengua\n",
        "  if user_age >= MAYENGUA_AGE:\n",
        "        print(f\"{GREEN}You can vote in Mayengua where the voting age is {MAYENGUA_AGE}{RESET}\")\n",
        "  else:\n",
        "        print(f\"{RED}You cannot vote in Mayengua where the voting age is {MAYENGUA_AGE}{RESET}\")\n",
        "\n",
        "\n",
        "\n",
        "\n",
        "\n",
        "if __name__ == '__main__':\n",
        "    main()"
      ],
      "metadata": {
        "colab": {
          "base_uri": "https://localhost:8080/"
        },
        "id": "MMW0_Un7gLrx",
        "outputId": "854a58d6-2b58-4bfb-faf0-732a71b55bca"
      },
      "execution_count": null,
      "outputs": [
        {
          "output_type": "stream",
          "name": "stdout",
          "text": [
            "How old are you?: 18\n",
            "\u001b[94m18\u001b[0m\n",
            "\u001b[92mYou can vote in Peturksbouipo where the voting age is 16\u001b[0m\n",
            "\u001b[91mYou cannot vote in Stanlau where the voting age is 25 \u001b[0m\n",
            "\u001b[91mYou cannot vote in Mayengua where the voting age is 48\u001b[0m\n"
          ]
        }
      ]
    },
    {
      "cell_type": "markdown",
      "source": [
        "##03_leap_year\n",
        "Ek year leap year tab hota hai agar:\n",
        "1. 4 se divide ho\n",
        "\n",
        "2. 100 se divide na ho\n",
        "\n",
        "3. Lekin agar 100 se divide hota ho, to phir usko 400 se bhi divide hona chahiye"
      ],
      "metadata": {
        "id": "0_QBxZ9grnFz"
      }
    },
    {
      "cell_type": "code",
      "source": [
        "def main():\n",
        "  year = int(input(\"Please enter a year: \"))\n",
        "\n",
        "  if year % 4 ==0:\n",
        "    if year % 100 ==0:\n",
        "      if year % 400 == 0:\n",
        "        print(f\"{year} is a leap year\")\n",
        "      else: # not divisible by 400\n",
        "        print(f\"{year} is not a leap year\")\n",
        "    else: #not divisble by 100\n",
        "        print(f\"{year} is a leap year\")\n",
        "  else:# not divisible by 4\n",
        "    print(f\"{year} is not a leap year\")\n",
        "\n",
        "\n",
        "if __name__ == '__main__':\n",
        "    main()"
      ],
      "metadata": {
        "colab": {
          "base_uri": "https://localhost:8080/"
        },
        "id": "o3qZkHs0roo6",
        "outputId": "0c0596ff-d445-4ab5-ebdc-6930dec1dde6"
      },
      "execution_count": 11,
      "outputs": [
        {
          "output_type": "stream",
          "name": "stdout",
          "text": [
            "Please enter a year: 2024\n",
            "2024 is a leap year\n"
          ]
        }
      ]
    },
    {
      "cell_type": "markdown",
      "source": [
        "##04_tall_enough_to_ride"
      ],
      "metadata": {
        "id": "XhkUNboVxlbO"
      }
    },
    {
      "cell_type": "code",
      "source": [
        "MINIMUM_HEIGHT : int = 50 # arbitrary units :)\n",
        "\n",
        "def main():\n",
        "  while True:\n",
        "    height_input = input(\"How tall are you: \")\n",
        "    if height_input==\"\":\n",
        "      print(\"Good bye!\")\n",
        "      break\n",
        "\n",
        "    try:\n",
        "      height = float(height_input)\n",
        "      if height >= MINIMUM_HEIGHT:\n",
        "        print(\"You're tall enough to ride!\")\n",
        "      else:\n",
        "        print(\"You're not tall enough to ride, but maybe next year!\")\n",
        "\n",
        "    except ValueError:\n",
        "      print(\"Please enter a valid number for height.\")\n",
        "\n",
        "\n",
        "# There is no need to edit code beyond this point\n",
        "\n",
        "if __name__ == '__main__':\n",
        "    main()"
      ],
      "metadata": {
        "id": "ZxmNwyyXuuL-",
        "colab": {
          "base_uri": "https://localhost:8080/"
        },
        "outputId": "929cabdb-52d7-4698-e697-fa564916e352"
      },
      "execution_count": 15,
      "outputs": [
        {
          "output_type": "stream",
          "name": "stdout",
          "text": [
            "How tall are you: 50\n",
            "You're tall enough to ride!\n",
            "How tall are you: 40\n",
            "You're not tall enough to ride, but maybe next year!\n",
            "How tall are you: 30\n",
            "You're not tall enough to ride, but maybe next year!\n",
            "How tall are you: 60\n",
            "You're tall enough to ride!\n",
            "How tall are you: \n",
            "Good bye!\n"
          ]
        }
      ]
    }
  ]
}