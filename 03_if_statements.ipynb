{
  "nbformat": 4,
  "nbformat_minor": 0,
  "metadata": {
    "colab": {
      "provenance": [],
      "authorship_tag": "ABX9TyPNYeyYCYLcxjIjLCgombT0",
      "include_colab_link": true
    },
    "kernelspec": {
      "name": "python3",
      "display_name": "Python 3"
    },
    "language_info": {
      "name": "python"
    }
  },
  "cells": [
    {
      "cell_type": "markdown",
      "metadata": {
        "id": "view-in-github",
        "colab_type": "text"
      },
      "source": [
        "<a href=\"https://colab.research.google.com/github/nehaltariq357/project-4-assignments-colab/blob/main/03_if_statements.ipynb\" target=\"_parent\"><img src=\"https://colab.research.google.com/assets/colab-badge.svg\" alt=\"Open In Colab\"/></a>"
      ]
    },
    {
      "cell_type": "markdown",
      "source": [
        "##01_print_events"
      ],
      "metadata": {
        "id": "R4_EuCKSepLm"
      }
    },
    {
      "cell_type": "code",
      "source": [
        "def main():\n",
        "    # This for-loop start at 0 and counts up to 19 (for a total of 20 numbers)\n",
        "  for i in range(20):\n",
        "    print(i*2) # Use the 'i' value inside the for-loop\n",
        "if __name__ == '__main__':\n",
        "    main()"
      ],
      "metadata": {
        "colab": {
          "base_uri": "https://localhost:8080/"
        },
        "id": "Y27nlau0etdn",
        "outputId": "6f07914b-cd4b-4c46-f7e2-fd8fb4304b89"
      },
      "execution_count": 2,
      "outputs": [
        {
          "output_type": "stream",
          "name": "stdout",
          "text": [
            "0\n",
            "2\n",
            "4\n",
            "6\n",
            "8\n",
            "10\n",
            "12\n",
            "14\n",
            "16\n",
            "18\n",
            "20\n",
            "22\n",
            "24\n",
            "26\n",
            "28\n",
            "30\n",
            "32\n",
            "34\n",
            "36\n",
            "38\n"
          ]
        }
      ]
    },
    {
      "cell_type": "markdown",
      "source": [
        "##02_international_voting_age"
      ],
      "metadata": {
        "id": "3CgrvKUVgEdg"
      }
    },
    {
      "cell_type": "code",
      "source": [
        "PETURKSBOUIPO_AGE: int = 16\n",
        "STANLAU_AGE: int = 25\n",
        "MAYENGUA_AGE: int = 48\n",
        "BLUE = \"\\033[94m\"\n",
        "GREEN = \"\\033[92m\"\n",
        "RED = \"\\033[91m\"\n",
        "RESET = \"\\033[0m\"\n",
        "def main():\n",
        "  user_age: int = int(input(f\"How old are you?: \"))\n",
        "  print(f\"{BLUE}{user_age}{RESET}\")\n",
        "  # Check if the user can vote in Peturksbouipo\n",
        "\n",
        "  if user_age >= PETURKSBOUIPO_AGE:\n",
        "    print(f\"{GREEN}You can vote in Peturksbouipo where the voting age is {PETURKSBOUIPO_AGE}{RESET}\")\n",
        "\n",
        "  else :\n",
        "    print(f\"{RED}You cannot vote in Peturksbouipo where the voting age is {PETURKSBOUIPO_AGE}{RESET}\")\n",
        "\n",
        " # Check if the user can vote in Stanlau\n",
        "  if user_age >= STANLAU_AGE:\n",
        "        print(f\"{GREEN}You can vote in Stanlau where the voting age is {STANLAU_AGE} {RESET}\")\n",
        "  else:\n",
        "        print(f\"{RED}You cannot vote in Stanlau where the voting age is {STANLAU_AGE} {RESET}\")\n",
        "\n",
        "    # Check if user can vote in Mayengua\n",
        "  if user_age >= MAYENGUA_AGE:\n",
        "        print(f\"{GREEN}You can vote in Mayengua where the voting age is {MAYENGUA_AGE}{RESET}\")\n",
        "  else:\n",
        "        print(f\"{RED}You cannot vote in Mayengua where the voting age is {MAYENGUA_AGE}{RESET}\")\n",
        "\n",
        "\n",
        "\n",
        "\n",
        "\n",
        "if __name__ == '__main__':\n",
        "    main()"
      ],
      "metadata": {
        "colab": {
          "base_uri": "https://localhost:8080/"
        },
        "id": "MMW0_Un7gLrx",
        "outputId": "aa68a6d0-c3ad-448a-b1b4-742970930d48"
      },
      "execution_count": 35,
      "outputs": [
        {
          "output_type": "stream",
          "name": "stdout",
          "text": [
            "How old are you?: 18\n",
            "\u001b[94m18\u001b[0m\n",
            "\u001b[92mYou can vote in Peturksbouipo where the voting age is 16\u001b[0m\n",
            "\u001b[91mYou cannot vote in Stanlau where the voting age is 25 \u001b[0m\n",
            "\u001b[91mYou cannot vote in Mayengua where the voting age is 48\u001b[0m\n"
          ]
        }
      ]
    }
  ]
}